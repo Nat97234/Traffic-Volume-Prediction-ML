{
 "cells": [
  {
   "cell_type": "markdown",
   "id": "66d5d538-7f57-40db-8cc8-4bb5e9a706ba",
   "metadata": {},
   "source": [
    "# Using data on vehicle flow and traffic volume, a system can be built to predict congestion in specific areas. This system can serve as a tool for decision-makers to adjust traffic signal timing or suggest alternative routes to alleviate congestion.  "
   ]
  },
  {
   "cell_type": "markdown",
   "id": "cc7f1e5a-155c-48bf-8704-4ed2282698c2",
   "metadata": {},
   "source": [
    "# Import required libraries  "
   ]
  },
  {
   "cell_type": "code",
   "execution_count": 1,
   "id": "9534c245-95da-4121-9c7d-42a5df0da824",
   "metadata": {},
   "outputs": [],
   "source": [
    "import pandas as pd  \n",
    "import numpy as np  \n",
    "from datetime import datetime  \n",
    "import matplotlib.pyplot as plt  \n",
    "import seaborn as sns  "
   ]
  },
  {
   "cell_type": "markdown",
   "id": "d55e7d81-459d-40aa-9d94-957b245d56f3",
   "metadata": {},
   "source": [
    " # Machine learning libraries  "
   ]
  },
  {
   "cell_type": "code",
   "execution_count": 3,
   "id": "82b27df9-27a1-4f44-b80e-7bd529da045f",
   "metadata": {},
   "outputs": [],
   "source": [
    "from sklearn.model_selection import train_test_split  \n",
    "from sklearn.preprocessing import StandardScaler, OneHotEncoder  \n",
    "from sklearn.compose import ColumnTransformer  \n",
    "from sklearn.pipeline import Pipeline  \n",
    "from sklearn.metrics import mean_squared_error, r2_score, mean_absolute_error  \n",
    "from sklearn.linear_model import LinearRegression, Ridge, Lasso  \n",
    "from sklearn.tree import DecisionTreeRegressor  \n",
    "from sklearn.ensemble import RandomForestRegressor, GradientBoostingRegressor  \n",
    "import xgboost as xgb  \n"
   ]
  },
  {
   "cell_type": "markdown",
   "id": "6117f76a-8a08-43b5-99f4-87ad3706344c",
   "metadata": {},
   "source": [
    " # Set plot style and fonts  "
   ]
  },
  {
   "cell_type": "code",
   "execution_count": 7,
   "id": "b8422dbe-0d92-4295-821e-fd4b6c6c498c",
   "metadata": {},
   "outputs": [],
   "source": [
    "plt.style.use('default')  \n",
    "plt.rcParams['font.family'] = ['Inter']  \n",
    "plt.rcParams['font.sans-serif'] = ['Inter']  "
   ]
  },
  {
   "cell_type": "markdown",
   "id": "b18bf1b1-907a-427b-89dd-f1e4fec43b1a",
   "metadata": {},
   "source": [
    " # Data Loading and Cleaning  \n",
    " "
   ]
  },
  {
   "cell_type": "markdown",
   "id": "b8f75cd1-aab8-4bfd-ac5a-edb94fbbe631",
   "metadata": {},
   "source": [
    " # Read the CSV file  "
   ]
  },
  {
   "cell_type": "code",
   "execution_count": 17,
   "id": "b5a3339c-66f7-4574-97af-f07d59f4e374",
   "metadata": {},
   "outputs": [],
   "source": [
    " df = pd.read_csv(r'C:\\Users\\owner\\Desktop\\Metro_Interstate_Traffic_Volume.csv',encoding='utf-8')  "
   ]
  },
  {
   "cell_type": "markdown",
   "id": "0dae3777-fe54-41f5-9291-0ca0366a24a3",
   "metadata": {},
   "source": [
    " # Convert date_time column to datetime (using dayfirst=True, and errors coerce)  "
   ]
  },
  {
   "cell_type": "code",
   "execution_count": 26,
   "id": "986daa11-1bf4-4c27-8a64-631550d0f5ff",
   "metadata": {},
   "outputs": [
    {
     "name": "stdout",
     "output_type": "stream",
     "text": [
      "Number of NaT in date_time: 0\n"
     ]
    }
   ],
   "source": [
    "df['date_time'] = pd.to_datetime(df['date_time'], dayfirst=True, errors='coerce')  \n",
    "nat_count = df['date_time'].isna().sum()  \n",
    "print(\"Number of NaT in date_time:\", nat_count)  \n",
    "if nat_count > 0:  \n",
    "     df = df.dropna(subset=['date_time'])  \n",
    "     print(\"Dropped rows with invalid date_time\")  \n"
   ]
  },
  {
   "cell_type": "markdown",
   "id": "7dd04dbd-116b-4a6e-a719-f34e2d86e5be",
   "metadata": {},
   "source": [
    " # Feature Engineering  "
   ]
  },
  {
   "cell_type": "markdown",
   "id": "121b9765-701f-44e2-b36a-6919622b5ffe",
   "metadata": {},
   "source": [
    "# Extract datetime based features: hour, day of week, month, year and weekend indicator  "
   ]
  },
  {
   "cell_type": "code",
   "execution_count": 30,
   "id": "ef98ddd7-0f2b-42c5-bb65-77c63d806243",
   "metadata": {},
   "outputs": [],
   "source": [
    "df['hour'] = df['date_time'].dt.hour  \n",
    "df['day_of_week'] = df['date_time'].dt.dayofweek  \n",
    "df['month'] = df['date_time'].dt.month  \n",
    "df['year'] = df['date_time'].dt.year  \n",
    "df['is_weekend'] = df['day_of_week'].isin([5,6]).astype(int)  "
   ]
  },
  {
   "cell_type": "markdown",
   "id": "ece3c233-60a2-4352-9208-5475600b0f5d",
   "metadata": {},
   "source": [
    " # Clean holiday column: fill missing values and create a binary indicator for holidays  "
   ]
  },
  {
   "cell_type": "code",
   "execution_count": 33,
   "id": "dcaf4e5a-8079-41bf-a5d9-17c92f683476",
   "metadata": {},
   "outputs": [],
   "source": [
    "df['holiday'] = df['holiday'].fillna('None')  \n",
    "df['is_holiday'] = (df['holiday'] != 'None').astype(int)  "
   ]
  },
  {
   "cell_type": "markdown",
   "id": "3ffd96e4-279a-423a-b950-627fe93c82c5",
   "metadata": {},
   "source": [
    "# Convert temperature from Kelvin to Celsius  "
   ]
  },
  {
   "cell_type": "code",
   "execution_count": 36,
   "id": "b3230fb3-eaa5-4164-b552-b62a97db6df4",
   "metadata": {},
   "outputs": [],
   "source": [
    " df['temp_celsius'] = df['temp'] - 273.15  "
   ]
  },
  {
   "cell_type": "markdown",
   "id": "bba25fe7-ee51-4d7e-8071-39a1e42c1cf3",
   "metadata": {},
   "source": [
    "# Simplify weather categories using a mapping  "
   ]
  },
  {
   "cell_type": "code",
   "execution_count": 39,
   "id": "ed2b17db-4e6b-409e-8ada-0670b24d21c4",
   "metadata": {},
   "outputs": [],
   "source": [
    "weather_mapping = {  \n",
    "     'Clear': 'Clear',  \n",
    "     'Clouds': 'Clouds',  \n",
    "     'Rain': 'Rain',  \n",
    "     'Snow': 'Snow',  \n",
    "     'Drizzle': 'Rain',  \n",
    "     'Mist': 'Other',  \n",
    "     'Fog': 'Other',  \n",
    "     'Thunderstorm': 'Storm',  \n",
    "     'Haze': 'Other',  \n",
    "     'Smoke': 'Other',  \n",
    "     'Squall': 'Storm'  \n",
    " }  \n",
    "df['weather_category'] = df['weather_main'].map(weather_mapping)  \n"
   ]
  },
  {
   "cell_type": "markdown",
   "id": "a203eeb7-89a4-4ed1-a8b1-53623ca90586",
   "metadata": {},
   "source": [
    "# Create cyclic features for hour, month, and day of the week:  "
   ]
  },
  {
   "cell_type": "code",
   "execution_count": 42,
   "id": "a2fdeb41-f6f3-420c-8af4-d97ebeab475e",
   "metadata": {},
   "outputs": [],
   "source": [
    "df['hour_sin'] = np.sin(2 * np.pi * df['hour'] / 24)  \n",
    "df['hour_cos'] = np.cos(2 * np.pi * df['hour'] / 24)  \n",
    "df['month_sin'] = np.sin(2 * np.pi * df['month'] / 12)  \n",
    "df['month_cos'] = np.cos(2 * np.pi * df['month'] / 12)  \n",
    "df['day_of_week_sin'] = np.sin(2 * np.pi * df['day_of_week'] / 7)  \n",
    "df['day_of_week_cos'] = np.cos(2 * np.pi * df['day_of_week'] / 7)  "
   ]
  },
  {
   "cell_type": "markdown",
   "id": "dbe6946d-10dd-4949-8552-5e893781a5b1",
   "metadata": {},
   "source": [
    "# Display a sample of engineered features to verify  "
   ]
  },
  {
   "cell_type": "code",
   "execution_count": 45,
   "id": "58acc685-4e91-45b6-94f0-a50d51056587",
   "metadata": {},
   "outputs": [
    {
     "name": "stdout",
     "output_type": "stream",
     "text": [
      "\n",
      "Sample of engineered features:\n",
      "            date_time  hour  day_of_week  is_weekend  is_holiday  \\\n",
      "0 2012-10-02 09:00:00     9            1           0           0   \n",
      "1 2012-10-02 10:00:00    10            1           0           0   \n",
      "2 2012-10-02 11:00:00    11            1           0           0   \n",
      "3 2012-10-02 12:00:00    12            1           0           0   \n",
      "4 2012-10-02 13:00:00    13            1           0           0   \n",
      "\n",
      "   temp_celsius weather_category  \n",
      "0         15.13           Clouds  \n",
      "1         16.21           Clouds  \n",
      "2         16.43           Clouds  \n",
      "3         16.98           Clouds  \n",
      "4         17.99           Clouds  \n"
     ]
    }
   ],
   "source": [
    "print(\"\\nSample of engineered features:\")  \n",
    "print(df[['date_time', 'hour', 'day_of_week', 'is_weekend', 'is_holiday', 'temp_celsius', 'weather_category']].head())  \n"
   ]
  },
  {
   "cell_type": "markdown",
   "id": "f358f9e3-b2ee-4900-9cb6-00e111d68066",
   "metadata": {},
   "source": [
    " # Exploratory Visualization  "
   ]
  },
  {
   "cell_type": "code",
   "execution_count": 58,
   "id": "f994ad79-8412-4e5b-97c8-19b943366473",
   "metadata": {},
   "outputs": [
    {
     "name": "stderr",
     "output_type": "stream",
     "text": [
      "findfont: Font family 'Inter' not found.\n",
      "findfont: Font family 'Inter' not found.\n",
      "findfont: Font family 'Inter' not found.\n",
      "findfont: Font family 'Inter' not found.\n",
      "findfont: Font family 'Inter' not found.\n",
      "findfont: Font family 'Inter' not found.\n",
      "findfont: Font family 'Inter' not found.\n",
      "findfont: Font family 'Inter' not found.\n",
      "findfont: Font family 'Inter' not found.\n",
      "findfont: Font family 'Inter' not found.\n",
      "findfont: Font family 'Inter' not found.\n",
      "findfont: Font family 'Inter' not found.\n",
      "findfont: Font family 'Inter' not found.\n",
      "findfont: Font family 'Inter' not found.\n",
      "findfont: Font family 'Inter' not found.\n",
      "findfont: Font family 'Inter' not found.\n",
      "findfont: Font family 'Inter' not found.\n",
      "findfont: Font family 'Inter' not found.\n",
      "findfont: Font family 'Inter' not found.\n",
      "findfont: Font family 'Inter' not found.\n",
      "findfont: Font family 'Inter' not found.\n",
      "findfont: Font family 'Inter' not found.\n",
      "findfont: Font family 'Inter' not found.\n",
      "findfont: Font family 'Inter' not found.\n",
      "findfont: Font family 'Inter' not found.\n",
      "findfont: Font family 'Inter' not found.\n",
      "findfont: Font family 'Inter' not found.\n",
      "findfont: Font family 'Inter' not found.\n",
      "findfont: Font family 'Inter' not found.\n",
      "findfont: Font family 'Inter' not found.\n",
      "findfont: Font family 'Inter' not found.\n",
      "findfont: Font family 'Inter' not found.\n",
      "findfont: Font family 'Inter' not found.\n",
      "findfont: Font family 'Inter' not found.\n",
      "findfont: Font family 'Inter' not found.\n",
      "findfont: Font family 'Inter' not found.\n",
      "findfont: Font family 'Inter' not found.\n",
      "findfont: Font family 'Inter' not found.\n",
      "findfont: Font family 'Inter' not found.\n",
      "findfont: Font family 'Inter' not found.\n",
      "findfont: Font family 'Inter' not found.\n",
      "findfont: Font family 'Inter' not found.\n",
      "findfont: Font family 'Inter' not found.\n",
      "findfont: Font family 'Inter' not found.\n",
      "findfont: Font family 'Inter' not found.\n",
      "findfont: Font family 'Inter' not found.\n",
      "findfont: Font family 'Inter' not found.\n",
      "findfont: Font family 'Inter' not found.\n",
      "findfont: Font family 'Inter' not found.\n",
      "findfont: Font family 'Inter' not found.\n",
      "findfont: Font family 'Inter' not found.\n",
      "findfont: Font family 'Inter' not found.\n",
      "findfont: Font family 'Inter' not found.\n",
      "findfont: Font family 'Inter' not found.\n",
      "findfont: Font family 'Inter' not found.\n",
      "findfont: Font family 'Inter' not found.\n"
     ]
    },
    {
     "data": {
      "image/png": "[encoded data removed]",
      "text/plain": [
       "<Figure size 1200x800 with 1 Axes>"
      ]
     },
     "metadata": {},
     "output_type": "display_data"
    }
   ],
   "source": [
    "plt.figure(figsize=(12, 8))  \n",
    "sns.histplot(data=df, x='traffic_volume', bins=50, color='#2563EB')  \n",
    "plt.title('Distribution of Traffic Volume', fontsize=20, pad=15)  \n",
    "plt.xlabel('Traffic Volume', fontsize=16, labelpad=10)  \n",
    "plt.ylabel('Count', fontsize=16, labelpad=10)  \n",
    "plt.xticks(fontsize=14)  \n",
    "plt.yticks(fontsize=14)  \n",
    "plt.grid(axis='y', color='#F3F4F6')  \n",
    "plt.gca().spines['top'].set_visible(False)  \n",
    "plt.gca().spines['right'].set_visible(False)  \n",
    "plt.gca().spines['left'].set_color('#171717')  \n",
    "plt.gca().spines['bottom'].set_color('#171717')  \n",
    "plt.show()  "
   ]
  },
  {
   "cell_type": "markdown",
   "id": "3c2fd887-321c-41ba-ab4b-06f4d6ec64f3",
   "metadata": {},
   "source": [
    " # Model Building and Comparison  "
   ]
  },
  {
   "cell_type": "markdown",
   "id": "b0b80fe2-9ac8-4805-be9d-23dc56f476c8",
   "metadata": {},
   "source": [
    "# Selected numeric and categorical features  "
   ]
  },
  {
   "cell_type": "code",
   "execution_count": 62,
   "id": "fd79bca6-8246-42a2-8ffe-e77946d1c502",
   "metadata": {},
   "outputs": [],
   "source": [
    "numeric_features = ['temp_celsius', 'rain_1h', 'snow_1h', 'clouds_all',   \n",
    "                     'hour_sin', 'hour_cos', 'month_sin', 'month_cos',   \n",
    "                     'day_of_week_sin', 'day_of_week_cos']  \n",
    "categorical_features = ['weather_category', 'is_holiday', 'is_weekend']  \n"
   ]
  },
  {
   "cell_type": "markdown",
   "id": "5f6a4d6a-8cfa-44bf-9edc-858425533807",
   "metadata": {},
   "source": [
    " # Separate features from target  "
   ]
  },
  {
   "cell_type": "code",
   "execution_count": 65,
   "id": "90954fcd-cd17-4f98-81cb-1773ffa1a29b",
   "metadata": {},
   "outputs": [],
   "source": [
    " X = df[numeric_features + categorical_features]  \n",
    " y = df['traffic_volume']  "
   ]
  },
  {
   "cell_type": "markdown",
   "id": "13ee2b07-2e66-4a29-9246-9be95e0eb32f",
   "metadata": {},
   "source": [
    "# Split the dataset  "
   ]
  },
  {
   "cell_type": "code",
   "execution_count": 68,
   "id": "0bd1c7a9-6b16-444f-aba9-fe42d55e7360",
   "metadata": {},
   "outputs": [],
   "source": [
    "X_train, X_test, y_train, y_test = train_test_split(X, y, test_size=0.2, random_state=42)  "
   ]
  },
  {
   "cell_type": "markdown",
   "id": "b7a7cb3a-977a-4859-9a11-5cedfad3ae2c",
   "metadata": {},
   "source": [
    "# Preprocessing pipelines for numeric and categorical data  "
   ]
  },
  {
   "cell_type": "code",
   "execution_count": 73,
   "id": "541239de-8499-4ffc-9f6e-e43609e56044",
   "metadata": {},
   "outputs": [],
   "source": [
    "numeric_transformer = StandardScaler()  \n",
    "categorical_transformer = OneHotEncoder(drop='first')  \n",
    "   \n",
    "preprocessor = ColumnTransformer(  \n",
    "     transformers=[  \n",
    "         ('num', numeric_transformer, numeric_features),  \n",
    "         ('cat', categorical_transformer, categorical_features)  \n",
    "     ]  \n",
    " )  \n"
   ]
  },
  {
   "cell_type": "markdown",
   "id": "06b10973-bfdc-4fdc-b06d-49c1c9764079",
   "metadata": {},
   "source": [
    "# Define models to compare  "
   ]
  },
  {
   "cell_type": "code",
   "execution_count": 76,
   "id": "698aa87b-a21f-4567-965e-2ace6cf04d93",
   "metadata": {},
   "outputs": [],
   "source": [
    " models = {  \n",
    "     'Linear Regression': LinearRegression(),  \n",
    "     'Ridge': Ridge(alpha=1.0),  \n",
    "     'Lasso': Lasso(alpha=1.0),  \n",
    "     'Decision Tree': DecisionTreeRegressor(random_state=42),  \n",
    "     'Random Forest': RandomForestRegressor(n_estimators=100, random_state=42),  \n",
    "     'Gradient Boosting': GradientBoostingRegressor(n_estimators=100, random_state=42),  \n",
    "     'XGBoost': xgb.XGBRegressor(n_estimators=100, random_state=42)  \n",
    " } "
   ]
  },
  {
   "cell_type": "markdown",
   "id": "0f8e379c-578f-4b19-8fc6-33b99e765474",
   "metadata": {},
   "source": [
    " # Dictionary to store the results  "
   ]
  },
  {
   "cell_type": "code",
   "execution_count": 79,
   "id": "a8112603-aa71-4989-aac6-6886d251035f",
   "metadata": {},
   "outputs": [],
   "source": [
    " results = {}  "
   ]
  },
  {
   "cell_type": "markdown",
   "id": "dcb371bb-6756-4b21-81a0-e26497fed9a1",
   "metadata": {},
   "source": [
    "# Loop through models, create pipeline, train, predict, and store metrics.  "
   ]
  },
  {
   "cell_type": "code",
   "execution_count": 82,
   "id": "289ad8b3-71de-466f-ad1b-ab690c74a35e",
   "metadata": {},
   "outputs": [
    {
     "name": "stdout",
     "output_type": "stream",
     "text": [
      "Training Linear Regression...\n",
      "Training Ridge...\n",
      "Training Lasso...\n",
      "Training Decision Tree...\n",
      "Training Random Forest...\n",
      "Training Gradient Boosting...\n",
      "Training XGBoost...\n"
     ]
    }
   ],
   "source": [
    "for name, model in models.items():  \n",
    "     print(\"Training \" + name + \"...\")  \n",
    "     pipeline = Pipeline([  \n",
    "         ('preprocessor', preprocessor),  \n",
    "         ('regressor', model)  \n",
    "     ])  \n",
    "     pipeline.fit(X_train, y_train)  \n",
    "     y_pred = pipeline.predict(X_test)  \n",
    "       \n",
    "     mse = mean_squared_error(y_test, y_pred)  \n",
    "     rmse = np.sqrt(mse)  \n",
    "     mae = mean_absolute_error(y_test, y_pred)  \n",
    "     r2 = r2_score(y_test, y_pred)  \n",
    "       \n",
    "     results[name] = {'RMSE': rmse, 'MAE': mae, 'R2': r2}  \n"
   ]
  },
  {
   "cell_type": "markdown",
   "id": "cdc8a5cc-e8fa-4ec8-ae8c-ff4737b5ba70",
   "metadata": {},
   "source": [
    " # Create a DataFrame with results  "
   ]
  },
  {
   "cell_type": "code",
   "execution_count": 85,
   "id": "8f466f87-35a4-40df-9600-fac5781de611",
   "metadata": {},
   "outputs": [
    {
     "name": "stdout",
     "output_type": "stream",
     "text": [
      "\n",
      "Model Comparison Results:\n",
      "                      RMSE     MAE    R2\n",
      "Linear Regression  1076.04  837.49  0.71\n",
      "Ridge              1076.04  837.48  0.71\n",
      "Lasso              1076.15  837.74  0.71\n",
      "Decision Tree       592.62  297.48  0.91\n",
      "Random Forest       443.83  245.24  0.95\n",
      "Gradient Boosting   497.25  310.61  0.94\n",
      "XGBoost             425.12  248.76  0.95\n"
     ]
    }
   ],
   "source": [
    " results_df = pd.DataFrame(results).T  \n",
    " print(\"\\nModel Comparison Results:\")  \n",
    " print(results_df.round(2))  "
   ]
  },
  {
   "cell_type": "markdown",
   "id": "8fce8cf6-6514-4e2e-8952-8a57034606ff",
   "metadata": {},
   "source": [
    " # Plot model comparison  "
   ]
  },
  {
   "cell_type": "code",
   "execution_count": 92,
   "id": "05092232-5759-4acb-ab69-ebbc837009db",
   "metadata": {},
   "outputs": [
    {
     "name": "stderr",
     "output_type": "stream",
     "text": [
      "findfont: Font family 'Inter' not found.\n",
      "findfont: Font family 'Inter' not found.\n",
      "findfont: Font family 'Inter' not found.\n",
      "findfont: Font family 'Inter' not found.\n",
      "findfont: Font family 'Inter' not found.\n",
      "findfont: Font family 'Inter' not found.\n",
      "findfont: Font family 'Inter' not found.\n",
      "findfont: Font family 'Inter' not found.\n",
      "findfont: Font family 'Inter' not found.\n",
      "findfont: Font family 'Inter' not found.\n",
      "findfont: Font family 'Inter' not found.\n",
      "findfont: Font family 'Inter' not found.\n",
      "findfont: Font family 'Inter' not found.\n",
      "findfont: Font family 'Inter' not found.\n",
      "findfont: Font family 'Inter' not found.\n",
      "findfont: Font family 'Inter' not found.\n",
      "findfont: Font family 'Inter' not found.\n",
      "findfont: Font family 'Inter' not found.\n",
      "findfont: Font family 'Inter' not found.\n",
      "findfont: Font family 'Inter' not found.\n",
      "findfont: Font family 'Inter' not found.\n",
      "findfont: Font family 'Inter' not found.\n",
      "findfont: Font family 'Inter' not found.\n",
      "findfont: Font family 'Inter' not found.\n",
      "findfont: Font family 'Inter' not found.\n",
      "findfont: Font family 'Inter' not found.\n",
      "findfont: Font family 'Inter' not found.\n",
      "findfont: Font family 'Inter' not found.\n",
      "findfont: Font family 'Inter' not found.\n",
      "findfont: Font family 'Inter' not found.\n",
      "findfont: Font family 'Inter' not found.\n",
      "findfont: Font family 'Inter' not found.\n",
      "findfont: Font family 'Inter' not found.\n",
      "findfont: Font family 'Inter' not found.\n",
      "findfont: Font family 'Inter' not found.\n",
      "findfont: Font family 'Inter' not found.\n",
      "findfont: Font family 'Inter' not found.\n",
      "findfont: Font family 'Inter' not found.\n",
      "findfont: Font family 'Inter' not found.\n",
      "findfont: Font family 'Inter' not found.\n",
      "findfont: Font family 'Inter' not found.\n",
      "findfont: Font family 'Inter' not found.\n",
      "findfont: Font family 'Inter' not found.\n",
      "findfont: Font family 'Inter' not found.\n",
      "findfont: Font family 'Inter' not found.\n",
      "findfont: Font family 'Inter' not found.\n",
      "findfont: Font family 'Inter' not found.\n",
      "findfont: Font family 'Inter' not found.\n",
      "findfont: Font family 'Inter' not found.\n",
      "findfont: Font family 'Inter' not found.\n",
      "findfont: Font family 'Inter' not found.\n",
      "findfont: Font family 'Inter' not found.\n",
      "findfont: Font family 'Inter' not found.\n",
      "findfont: Font family 'Inter' not found.\n",
      "findfont: Font family 'Inter' not found.\n",
      "findfont: Font family 'Inter' not found.\n",
      "findfont: Font family 'Inter' not found.\n",
      "findfont: Font family 'Inter' not found.\n",
      "findfont: Font family 'Inter' not found.\n",
      "findfont: Font family 'Inter' not found.\n",
      "findfont: Font family 'Inter' not found.\n",
      "findfont: Font family 'Inter' not found.\n",
      "findfont: Font family 'Inter' not found.\n",
      "findfont: Font family 'Inter' not found.\n",
      "findfont: Font family 'Inter' not found.\n",
      "findfont: Font family 'Inter' not found.\n",
      "findfont: Font family 'Inter' not found.\n",
      "findfont: Font family 'Inter' not found.\n",
      "findfont: Font family 'Inter' not found.\n",
      "findfont: Font family 'Inter' not found.\n",
      "findfont: Font family 'Inter' not found.\n",
      "findfont: Font family 'Inter' not found.\n",
      "findfont: Font family 'Inter' not found.\n",
      "findfont: Font family 'Inter' not found.\n",
      "findfont: Font family 'Inter' not found.\n",
      "findfont: Font family 'Inter' not found.\n",
      "findfont: Font family 'Inter' not found.\n",
      "findfont: Font family 'Inter' not found.\n",
      "findfont: Font family 'Inter' not found.\n",
      "findfont: Font family 'Inter' not found.\n",
      "findfont: Font family 'Inter' not found.\n",
      "findfont: Font family 'Inter' not found.\n",
      "findfont: Font family 'Inter' not found.\n",
      "findfont: Font family 'Inter' not found.\n",
      "findfont: Font family 'Inter' not found.\n",
      "findfont: Font family 'Inter' not found.\n",
      "findfont: Font family 'Inter' not found.\n",
      "findfont: Font family 'Inter' not found.\n",
      "findfont: Font family 'Inter' not found.\n",
      "findfont: Font family 'Inter' not found.\n",
      "findfont: Font family 'Inter' not found.\n",
      "findfont: Font family 'Inter' not found.\n",
      "findfont: Font family 'Inter' not found.\n",
      "findfont: Font family 'Inter' not found.\n",
      "findfont: Font family 'Inter' not found.\n",
      "findfont: Font family 'Inter' not found.\n",
      "findfont: Font family 'Inter' not found.\n",
      "findfont: Font family 'Inter' not found.\n",
      "findfont: Font family 'Inter' not found.\n"
     ]
    },
    {
     "data": {
      "image/png": "[encoded data removed]",
      "text/plain": [
       "<Figure size 1200x800 with 1 Axes>"
      ]
     },
     "metadata": {},
     "output_type": "display_data"
    }
   ],
   "source": [
    "plt.figure(figsize=(12, 8))  \n",
    "x_axis = np.arange(len(results))  \n",
    "width = 0.25  \n",
    "   \n",
    "plt.bar(x_axis - width, [results[model]['RMSE'] for model in models.keys()],  \n",
    "         width, label='RMSE', color='#2563EB')  \n",
    "plt.bar(x_axis, [results[model]['MAE'] for model in models.keys()],  \n",
    "         width, label='MAE', color='#24EB84')  \n",
    "plt.bar(x_axis + width, [results[model]['R2'] for model in models.keys()],  \n",
    "         width, label='R2', color='#EB3424')  \n",
    "   \n",
    "plt.xlabel('Models', fontsize=16, labelpad=10)  \n",
    "plt.ylabel('Score', fontsize=16, labelpad=10)  \n",
    "plt.title('Model Performance Comparison', fontsize=20, pad=15)  \n",
    "plt.xticks(x_axis, list(models.keys()), rotation=45, ha='right', fontsize=14)  \n",
    "plt.yticks(fontsize=14)  \n",
    "plt.legend(fontsize=14)  \n",
    "plt.grid(axis='y', color='#F3F4F6')  \n",
    "plt.gca().spines['top'].set_visible(False)  \n",
    "plt.gca().spines['right'].set_visible(False)  \n",
    "plt.gca().spines['left'].set_color('#171717')  \n",
    "plt.gca().spines['bottom'].set_color('#171717')  \n",
    "plt.tight_layout()  \n",
    "plt.show()  "
   ]
  },
  {
   "cell_type": "markdown",
   "id": "c70eef08-9722-439d-a530-d36865788554",
   "metadata": {},
   "source": [
    "# Print the best models based on RMSE and R2  "
   ]
  },
  {
   "cell_type": "code",
   "execution_count": 95,
   "id": "0d1097cf-8dc1-42d7-8bb4-fb18337663cc",
   "metadata": {},
   "outputs": [
    {
     "name": "stdout",
     "output_type": "stream",
     "text": [
      "\n",
      "Best model based on RMSE: XGBoost\n",
      "Best model based on R2: XGBoost\n"
     ]
    }
   ],
   "source": [
    "print(\"\\nBest model based on RMSE:\", results_df['RMSE'].idxmin())  \n",
    "print(\"Best model based on R2:\", results_df['R2'].idxmax())  "
   ]
  }
 ],
 "metadata": {
  "kernelspec": {
   "display_name": "Python 3 (ipykernel)",
   "language": "python",
   "name": "python3"
  },
  "language_info": {
   "codemirror_mode": {
    "name": "ipython",
    "version": 3
   },
   "file_extension": ".py",
   "mimetype": "text/x-python",
   "name": "python",
   "nbconvert_exporter": "python",
   "pygments_lexer": "ipython3",
   "version": "3.12.7"
  }
 },
 "nbformat": 4,
 "nbformat_minor": 5
}
